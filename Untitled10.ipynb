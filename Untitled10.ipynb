{
  "nbformat": 4,
  "nbformat_minor": 0,
  "metadata": {
    "colab": {
      "name": "Untitled10.ipynb",
      "provenance": []
    },
    "kernelspec": {
      "name": "python3",
      "display_name": "Python 3"
    }
  },
  "cells": [
    {
      "cell_type": "code",
      "metadata": {
        "id": "v1qEPCv79X9Q"
      },
      "source": [
        "import pandas as pd\n",
        "import numpy as np\n",
        "import seaborn as sns\n",
        "import os\n",
        "import math\n",
        "import statistics\n",
        "import matplotlib.pyplot as plt\n",
        "%matplotlib inline\n",
        "import scipy.stats\n",
        "from scipy import stats\n",
        "from scipy.stats import zscore\n",
        "from scipy.stats import norm\n",
        "from scipy.special import ndtr as ndtr\n",
        "from scipy.stats import f\n",
        "import statsmodels.api as sm"
      ],
      "execution_count": null,
      "outputs": []
    },
    {
      "cell_type": "code",
      "metadata": {
        "id": "2crP2Tr89xfs",
        "colab": {
          "base_uri": "https://localhost:8080/",
          "height": 34
        },
        "outputId": "7eef8ca8-ce45-4c92-a5db-c9756cfbbb7c"
      },
      "source": [
        "#problem_1\n",
        "marks=[6, 7,5,7, 7, 8, 7, 6, 9, 7, 4, 10, 6, 8, 8, 9, 5, 6, 4, 8]\n",
        "mean=statistics.mean(marks)\n",
        "mean"
      ],
      "execution_count": null,
      "outputs": [
        {
          "output_type": "execute_result",
          "data": {
            "text/plain": [
              "6.85"
            ]
          },
          "metadata": {
            "tags": []
          },
          "execution_count": 2
        }
      ]
    },
    {
      "cell_type": "code",
      "metadata": {
        "id": "ZLLkHgCILYXt"
      },
      "source": [
        "from google.colab import drive\n",
        "drive.mount('/content/drive')"
      ],
      "execution_count": null,
      "outputs": []
    },
    {
      "cell_type": "code",
      "metadata": {
        "id": "jO49v636-ClJ",
        "colab": {
          "base_uri": "https://localhost:8080/",
          "height": 34
        },
        "outputId": "809943d2-532c-4982-9680-97ffc113ea50"
      },
      "source": [
        "median=statistics.median(marks)\n",
        "median"
      ],
      "execution_count": null,
      "outputs": [
        {
          "output_type": "execute_result",
          "data": {
            "text/plain": [
              "7.0"
            ]
          },
          "metadata": {
            "tags": []
          },
          "execution_count": 3
        }
      ]
    },
    {
      "cell_type": "code",
      "metadata": {
        "id": "Gu2X5I-r-Fug",
        "colab": {
          "base_uri": "https://localhost:8080/",
          "height": 34
        },
        "outputId": "0f0f36f6-9b11-46ef-a626-4175f8949f22"
      },
      "source": [
        "mode=statistics.mode(marks)\n",
        "mode"
      ],
      "execution_count": null,
      "outputs": [
        {
          "output_type": "execute_result",
          "data": {
            "text/plain": [
              "7"
            ]
          },
          "metadata": {
            "tags": []
          },
          "execution_count": 4
        }
      ]
    },
    {
      "cell_type": "code",
      "metadata": {
        "id": "35e0792A-IIF",
        "colab": {
          "base_uri": "https://localhost:8080/",
          "height": 34
        },
        "outputId": "7b82e969-7601-44b0-d75e-df4105efd62b"
      },
      "source": [
        "std=statistics.stdev(marks)\n",
        "var=statistics.variance(marks)\n",
        "print(std,var)"
      ],
      "execution_count": null,
      "outputs": [
        {
          "output_type": "stream",
          "text": [
            "1.6311119875071343 2.6605263157894736\n"
          ],
          "name": "stdout"
        }
      ]
    },
    {
      "cell_type": "code",
      "metadata": {
        "id": "-bFrE4lQ-YYN",
        "colab": {
          "base_uri": "https://localhost:8080/",
          "height": 34
        },
        "outputId": "6fb14e45-8785-4ed6-bb43-bb69ebf13b5a"
      },
      "source": [
        "#problem_2\n",
        "calls=[28, 122, 217, 130, 120, 86, 80, 90, 140, 120, 70, 40, 145, 113, 90, 68, 174, 194, 170,\n",
        "100, 75, 104, 97, 75,123, 100, 75, 104, 97, 75, 123, 100, 89, 120, 109]\n",
        "mean = np.mean(calls)\n",
        "median = np.median(calls)\n",
        "mode=scipy.stats.mode(calls)\n",
        "std=np.std(calls)\n",
        "var=np.var(calls)\n",
        "print(mean,median,mode,std,var)"
      ],
      "execution_count": null,
      "outputs": [
        {
          "output_type": "stream",
          "text": [
            "107.51428571428572 100.0 ModeResult(mode=array([75]), count=array([4])) 38.77287080168403 1503.3355102040816\n"
          ],
          "name": "stdout"
        }
      ]
    },
    {
      "cell_type": "code",
      "metadata": {
        "id": "1QPZuh_--0wL",
        "colab": {
          "base_uri": "https://localhost:8080/",
          "height": 34
        },
        "outputId": "85e8c8b6-953c-4ec5-cb1f-74a18688af0c"
      },
      "source": [
        "#problem_3\n",
        "x =[ 0, 1, 2, 3, 4, 5]\n",
        "n=len(x)\n",
        "fx= [0.09, 0.15, 0.40, 0.25, 0.10, 0.01]\n",
        "mean=sum(x*fx for (x,fx) in zip(x,fx))/sum(x)\n",
        "var= sum((item-mean)**2 for item in x)/n\n",
        "print(mean,var)"
      ],
      "execution_count": null,
      "outputs": [
        {
          "output_type": "stream",
          "text": [
            "0.14333333333333334 8.470544444444444\n"
          ],
          "name": "stdout"
        }
      ]
    },
    {
      "cell_type": "code",
      "metadata": {
        "id": "NjqlGmfMCVYb",
        "colab": {
          "base_uri": "https://localhost:8080/",
          "height": 51
        },
        "outputId": "a573e612-2319-48e1-c990-c4c012d66117"
      },
      "source": [
        "#problem_4\n",
        "e=2.718\n",
        "d=11\n",
        "D= 20*e-20*(d-12.5)\n",
        "print(scipy.stats.norm.cdf(D))\n",
        "print(scipy.stats.norm.pdf(D))  \n"
      ],
      "execution_count": null,
      "outputs": [
        {
          "output_type": "stream",
          "text": [
            "1.0\n",
            "0.0\n"
          ],
          "name": "stdout"
        }
      ]
    },
    {
      "cell_type": "code",
      "metadata": {
        "id": "teYTouWqCpjw",
        "colab": {
          "base_uri": "https://localhost:8080/",
          "height": 34
        },
        "outputId": "d7678ace-b20b-423a-b890-4be6e8d20a1d"
      },
      "source": [
        "e=2.718\n",
        "d>12.6\n",
        "D= 20*e-20*(d-12.5)\n",
        "print(scipy.stats.norm.pdf(D)) "
      ],
      "execution_count": null,
      "outputs": [
        {
          "output_type": "stream",
          "text": [
            "0.0\n"
          ],
          "name": "stdout"
        }
      ]
    },
    {
      "cell_type": "code",
      "metadata": {
        "id": "eUadr-tCCuEk",
        "colab": {
          "base_uri": "https://localhost:8080/",
          "height": 51
        },
        "outputId": "ba71f068-330b-4659-afe3-94faf2614954"
      },
      "source": [
        "#problem_5\n",
        "from scipy.stats import binom\n",
        "mean, std = binom.stats(n=6,p=0.3)\n",
        "print(\"mean = \"+str(mean)) \n",
        "print(\"standard_deviation = \"+str(std))"
      ],
      "execution_count": null,
      "outputs": [
        {
          "output_type": "stream",
          "text": [
            "mean = 1.7999999999999998\n",
            "standard_deviation = 1.2599999999999998\n"
          ],
          "name": "stdout"
        }
      ]
    },
    {
      "cell_type": "code",
      "metadata": {
        "id": "NSkdf0OZDFPK",
        "colab": {
          "base_uri": "https://localhost:8080/",
          "height": 51
        },
        "outputId": "8dbaa80d-b84c-49f5-ff8d-6261319d67ad"
      },
      "source": [
        "#problem_6\n",
        "gaurav=binom.pmf(k=5,n=8,p=0.75)\n",
        "barkha=binom.pmf(k=5,n=12,p=0.45)\n",
        "print('probability of gaurav = {}'.format(gaurav))\n",
        "print('probability of barkha = {}'.format(barkha))"
      ],
      "execution_count": null,
      "outputs": [
        {
          "output_type": "stream",
          "text": [
            "probability of gaurav = 0.20764160156250022\n",
            "probability of barkha = 0.22249823843265812\n"
          ],
          "name": "stdout"
        }
      ]
    },
    {
      "cell_type": "code",
      "metadata": {
        "id": "7OlkEgBVDi2X",
        "colab": {
          "base_uri": "https://localhost:8080/",
          "height": 51
        },
        "outputId": "185f8792-1215-45a3-880a-77a8967a1c0a"
      },
      "source": [
        "gaurav=binom.pmf(k=4,n=8,p=0.75)\n",
        "barkha=binom.pmf(k=4,n=12,p=0.45)\n",
        "print('probability of gaurav = {}'.format(gaurav))\n",
        "print('probability of barkha = {}'.format(barkha))"
      ],
      "execution_count": null,
      "outputs": [
        {
          "output_type": "stream",
          "text": [
            "probability of gaurav = 0.08651733398437506\n",
            "probability of barkha = 0.1699639321360581\n"
          ],
          "name": "stdout"
        }
      ]
    },
    {
      "cell_type": "code",
      "metadata": {
        "id": "0yyYAXdjDk8_",
        "colab": {
          "base_uri": "https://localhost:8080/",
          "height": 51
        },
        "outputId": "61d06bd7-12fd-4bcb-b075-d494ce6b6b6e"
      },
      "source": [
        "gaurav=binom.pmf(k=6,n=8,p=0.75)\n",
        "barkha=binom.pmf(k=6,n=12,p=0.45)\n",
        "print('probability of gaurav = {}'.format(gaurav))\n",
        "print('probability of barkha = {}'.format(barkha))"
      ],
      "execution_count": null,
      "outputs": [
        {
          "output_type": "stream",
          "text": [
            "probability of gaurav = 0.31146240234375017\n",
            "probability of barkha = 0.21238468214026432\n"
          ],
          "name": "stdout"
        }
      ]
    },
    {
      "cell_type": "code",
      "metadata": {
        "id": "9ZqTskUpDm-8",
        "colab": {
          "base_uri": "https://localhost:8080/",
          "height": 297
        },
        "outputId": "1c78368c-8d35-4486-b596-89415c17565c"
      },
      "source": [
        "#value of p and k affect the solution\n",
        "k=6\n",
        "n=8\n",
        "p=.75\n",
        "plt.plot(k,gaurav,'o-')\n",
        "plt.title('Gaurav:k=%i n=%i , p=%.2f' % (k,n,p), fontsize=15)\n",
        "plt.xlabel('Number of correct questions')\n",
        "plt.ylabel('Probability of Successes')\n",
        "plt.show()"
      ],
      "execution_count": null,
      "outputs": [
        {
          "output_type": "display_data",
          "data": {
            "image/png": "[encoded data removed]",
            "text/plain": [
              "<Figure size 432x288 with 1 Axes>"
            ]
          },
          "metadata": {
            "tags": [],
            "needs_background": "light"
          }
        }
      ]
    },
    {
      "cell_type": "code",
      "metadata": {
        "id": "Xy8axg8uDr0P",
        "colab": {
          "base_uri": "https://localhost:8080/",
          "height": 297
        },
        "outputId": "cd035360-966b-4b61-fe26-84e2b9eca424"
      },
      "source": [
        "k=6\n",
        "p=.45\n",
        "plt.plot(k,barkha,'o-')\n",
        "plt.title('Barkha: k=%i , p=%.2f' % (k,p), fontsize=15)\n",
        "plt.xlabel('Number of correct question')\n",
        "plt.ylabel('Probability of Successes')\n",
        "plt.show()"
      ],
      "execution_count": null,
      "outputs": [
        {
          "output_type": "display_data",
          "data": {
            "image/png": "[encoded data removed]",
            "text/plain": [
              "<Figure size 432x288 with 1 Axes>"
            ]
          },
          "metadata": {
            "tags": [],
            "needs_background": "light"
          }
        }
      ]
    },
    {
      "cell_type": "code",
      "metadata": {
        "id": "1YOEZpdpD7ff",
        "colab": {
          "base_uri": "https://localhost:8080/",
          "height": 34
        },
        "outputId": "73b53b69-e9e7-48b0-b968-64f79392589d"
      },
      "source": [
        "#problem_7\n",
        "from scipy.stats import poisson\n",
        "n=5\n",
        "rate=72*4/60\n",
        "customer = stats.poisson.pmf(n,rate)\n",
        "customer"
      ],
      "execution_count": null,
      "outputs": [
        {
          "output_type": "execute_result",
          "data": {
            "text/plain": [
              "0.17474768364388296"
            ]
          },
          "metadata": {
            "tags": []
          },
          "execution_count": 20
        }
      ]
    },
    {
      "cell_type": "code",
      "metadata": {
        "id": "XHYfzWqZEGjj",
        "colab": {
          "base_uri": "https://localhost:8080/",
          "height": 34
        },
        "outputId": "067fe272-f565-4b29-be8c-2b4d7b411fec"
      },
      "source": [
        "n=np.arange(0,5)\n",
        "customer = stats.poisson.pmf(n,rate)          \n",
        "customer_3=customer[0]+customer[1]+customer[2]+customer[3]\n",
        "customer_3"
      ],
      "execution_count": null,
      "outputs": [
        {
          "output_type": "execute_result",
          "data": {
            "text/plain": [
              "0.29422991649656405"
            ]
          },
          "metadata": {
            "tags": []
          },
          "execution_count": 21
        }
      ]
    },
    {
      "cell_type": "code",
      "metadata": {
        "id": "kffQ3uC8EOfX",
        "colab": {
          "base_uri": "https://localhost:8080/",
          "height": 34
        },
        "outputId": "4464e52f-d53d-449b-a12b-24bcd7cc7d23"
      },
      "source": [
        "customers=1-(customer_3)\n",
        "customers"
      ],
      "execution_count": null,
      "outputs": [
        {
          "output_type": "execute_result",
          "data": {
            "text/plain": [
              "0.705770083503436"
            ]
          },
          "metadata": {
            "tags": []
          },
          "execution_count": 22
        }
      ]
    },
    {
      "cell_type": "code",
      "metadata": {
        "id": "YLK3iJ20ERYE",
        "colab": {
          "base_uri": "https://localhost:8080/",
          "height": 311
        },
        "outputId": "e437552f-c0a5-4b90-ce7a-824cfff582f4"
      },
      "source": [
        "plt.plot(n,customer,'o-')\n",
        "plt.title('customer: $\\lambda$ = %i ' % rate)\n",
        "plt.xlabel('Number of Customers Arriving in a minute')\n",
        "plt.ylabel('Probability of Number of Customers arriving in a minute')\n",
        "plt.show()"
      ],
      "execution_count": null,
      "outputs": [
        {
          "output_type": "display_data",
          "data": {
            "image/png": "[encoded data removed]",
            "text/plain": [
              "<Figure size 432x288 with 1 Axes>"
            ]
          },
          "metadata": {
            "tags": [],
            "needs_background": "light"
          }
        }
      ]
    },
    {
      "cell_type": "code",
      "metadata": {
        "id": "sIkIRuutET2l",
        "colab": {
          "base_uri": "https://localhost:8080/",
          "height": 34
        },
        "outputId": "59d8f743-a879-4452-b1c4-5eafab76ffa8"
      },
      "source": [
        "#problem_8\n",
        "n=6\n",
        "rate=72*60\n",
        "pby = stats.poisson.pmf(n,rate)\n",
        "pby"
      ],
      "execution_count": null,
      "outputs": [
        {
          "output_type": "execute_result",
          "data": {
            "text/plain": [
              "0.0"
            ]
          },
          "metadata": {
            "tags": []
          },
          "execution_count": 24
        }
      ]
    },
    {
      "cell_type": "code",
      "metadata": {
        "id": "iJ3YBvOcEv4M",
        "colab": {
          "base_uri": "https://localhost:8080/",
          "height": 34
        },
        "outputId": "2bc4c642-4e9f-40bb-8001-7683eaac0377"
      },
      "source": [
        "n=2\n",
        "rate=455\n",
        "pby3 = stats.poisson.pmf(n,rate)\n",
        "pby3"
      ],
      "execution_count": null,
      "outputs": [
        {
          "output_type": "execute_result",
          "data": {
            "text/plain": [
              "2.576342107659782e-193"
            ]
          },
          "metadata": {
            "tags": []
          },
          "execution_count": 25
        }
      ]
    },
    {
      "cell_type": "code",
      "metadata": {
        "id": "la7b95LcEySw",
        "colab": {
          "base_uri": "https://localhost:8080/",
          "height": 34
        },
        "outputId": "3f9c01c0-f9c2-4134-92a4-c1c3a1464454"
      },
      "source": [
        "n=2\n",
        "rate=1000\n",
        "pby1 = stats.poisson.pmf(n,rate)\n",
        "pby1"
      ],
      "execution_count": null,
      "outputs": [
        {
          "output_type": "execute_result",
          "data": {
            "text/plain": [
              "0.0"
            ]
          },
          "metadata": {
            "tags": []
          },
          "execution_count": 26
        }
      ]
    },
    {
      "cell_type": "code",
      "metadata": {
        "id": "UvZlnEY2E09F",
        "colab": {
          "base_uri": "https://localhost:8080/",
          "height": 34
        },
        "outputId": "2a3b0e2d-22d9-4e3b-ebba-dd7c62686ef9"
      },
      "source": [
        "n=2\n",
        "rate=255\n",
        "pby2 = stats.poisson.pmf(n,rate)\n",
        "pby2"
      ],
      "execution_count": null,
      "outputs": [
        {
          "output_type": "execute_result",
          "data": {
            "text/plain": [
              "5.847328323683632e-107"
            ]
          },
          "metadata": {
            "tags": []
          },
          "execution_count": 27
        }
      ]
    },
    {
      "cell_type": "code",
      "metadata": {
        "id": "_ndwuf3NE3v0",
        "colab": {
          "base_uri": "https://localhost:8080/",
          "height": 297
        },
        "outputId": "63840aa1-2b68-484b-a3c4-a8cc7566b4c9"
      },
      "source": [
        "plt.plot(n,pby,'o-')\n",
        "plt.title('pby: $\\lambda$ = %i ' % rate)\n",
        "plt.ylabel('Number of errors')\n",
        "plt.xlabel('Probability of Number of wriring words')\n",
        "plt.show()"
      ],
      "execution_count": null,
      "outputs": [
        {
          "output_type": "display_data",
          "data": {
            "image/png": "[encoded data removed]",
            "text/plain": [
              "<Figure size 432x288 with 1 Axes>"
            ]
          },
          "metadata": {
            "tags": [],
            "needs_background": "light"
          }
        }
      ]
    },
    {
      "cell_type": "code",
      "metadata": {
        "id": "aqUE5edWE7Qx",
        "colab": {
          "base_uri": "https://localhost:8080/",
          "height": 297
        },
        "outputId": "31836a13-8766-4761-cb98-c3563caafb93"
      },
      "source": [
        "plt.plot(n,pby3,'o-')\n",
        "plt.title('pby3: $\\lambda$ = %i ' % rate)\n",
        "plt.ylabel('Number of errors')\n",
        "plt.xlabel('Probability of Number of wriring words')\n",
        "plt.show()"
      ],
      "execution_count": null,
      "outputs": [
        {
          "output_type": "display_data",
          "data": {
            "image/png": "[encoded data removed]",
            "text/plain": [
              "<Figure size 432x288 with 1 Axes>"
            ]
          },
          "metadata": {
            "tags": [],
            "needs_background": "light"
          }
        }
      ]
    },
    {
      "cell_type": "code",
      "metadata": {
        "id": "-oQh-hXXFGZy",
        "colab": {
          "base_uri": "https://localhost:8080/",
          "height": 34
        },
        "outputId": "aa7a0606-6d01-47fd-da0d-0ba5aa0e1472"
      },
      "source": [
        "#problem_11\n",
        "variance=4\n",
        "sigma=variance**0.5\n",
        "mu=10\n",
        "x1=13\n",
        "z=(x1-mu)/sigma \n",
        "stats.norm.cdf(z)\n",
        "\n"
      ],
      "execution_count": null,
      "outputs": [
        {
          "output_type": "execute_result",
          "data": {
            "text/plain": [
              "0.9331927987311419"
            ]
          },
          "metadata": {
            "tags": []
          },
          "execution_count": 30
        }
      ]
    },
    {
      "cell_type": "code",
      "metadata": {
        "id": "WS5caW2gFhTf",
        "colab": {
          "base_uri": "https://localhost:8080/",
          "height": 34
        },
        "outputId": "ad329908-71f6-4ac3-8771-c165dcd2618d"
      },
      "source": [
        "#problem_12\n",
        "data1=[0.2515]\n",
        "data2=[0.2485]\n",
        "mean=0.2508\n",
        "std=0.0005\n",
        "for i in data1:\n",
        "    z_score=(i-mean)/std\n",
        "    p1=stats.norm.cdf(z_score)\n",
        "for x in data2:\n",
        "    z_score=(x-mean)/std\n",
        "    p2=stats.norm.cdf(z_score)    \n",
        "print(p1-p2) "
      ],
      "execution_count": null,
      "outputs": [
        {
          "output_type": "stream",
          "text": [
            "0.91924122831152\n"
          ],
          "name": "stdout"
        }
      ]
    },
    {
      "cell_type": "code",
      "metadata": {
        "id": "TN2Kb09HFvSV",
        "colab": {
          "base_uri": "https://localhost:8080/",
          "height": 34
        },
        "outputId": "149577ea-9c67-4d05-85c7-03f8ee3c0a5b"
      },
      "source": [
        "data1=[0.2515]\n",
        "data2=[0.2485]\n",
        "mean=0.2500\n",
        "std=0.0005\n",
        "for i in data1:\n",
        "    z_score=(i-mean)/std\n",
        "    p1=stats.norm.cdf(z_score)\n",
        "for x in data2:\n",
        "    z_score=(x-mean)/std\n",
        "    p2=stats.norm.cdf(z_score)    \n",
        "print(p1-p2)"
      ],
      "execution_count": null,
      "outputs": [
        {
          "output_type": "stream",
          "text": [
            "0.9973002039367398\n"
          ],
          "name": "stdout"
        }
      ]
    },
    {
      "cell_type": "code",
      "metadata": {
        "id": "6YyuorCCF2Q1",
        "colab": {
          "base_uri": "https://localhost:8080/",
          "height": 34
        },
        "outputId": "e71cf329-6619-448c-bf78-e386e608bbf4"
      },
      "source": [
        "#problem_10\n",
        "z_score=1.26,-1.37,-4.6\n",
        "p_value=1-ndtr(z_score)\n",
        "p_value\n"
      ],
      "execution_count": null,
      "outputs": [
        {
          "output_type": "execute_result",
          "data": {
            "text/plain": [
              "array([0.10383468, 0.91465655, 0.99999789])"
            ]
          },
          "metadata": {
            "tags": []
          },
          "execution_count": 34
        }
      ]
    },
    {
      "cell_type": "code",
      "metadata": {
        "id": "29bL-e8WGaoU",
        "colab": {
          "base_uri": "https://localhost:8080/",
          "height": 34
        },
        "outputId": "f5130413-a8e8-41a3-9f3c-656ac6bb34e3"
      },
      "source": [
        "z_score=-0.86\n",
        "p_value=ndtr(z_score)\n",
        "p_value"
      ],
      "execution_count": null,
      "outputs": [
        {
          "output_type": "execute_result",
          "data": {
            "text/plain": [
              "0.1948945212518084"
            ]
          },
          "metadata": {
            "tags": []
          },
          "execution_count": 35
        }
      ]
    },
    {
      "cell_type": "code",
      "metadata": {
        "id": "gsWGyZ-mGdLd",
        "colab": {
          "base_uri": "https://localhost:8080/",
          "height": 34
        },
        "outputId": "734d4da5-5022-4865-a8b1-f634aec49596"
      },
      "source": [
        "z_score1=-1.25\n",
        "z_score2=0.37\n",
        "p_value=ndtr(z_score2)-ndtr(z_score1)\n",
        "p_value"
      ],
      "execution_count": null,
      "outputs": [
        {
          "output_type": "execute_result",
          "data": {
            "text/plain": [
              "0.5386589811336914"
            ]
          },
          "metadata": {
            "tags": []
          },
          "execution_count": 36
        }
      ]
    },
    {
      "cell_type": "code",
      "metadata": {
        "id": "IUFbPMX-GgVw",
        "colab": {
          "base_uri": "https://localhost:8080/",
          "height": 34
        },
        "outputId": "bb8a3c0d-ad40-4edf-d6cc-93c51bd3c1b0"
      },
      "source": [
        "z=1-stats.norm.cdf(0.99)\n",
        "z"
      ],
      "execution_count": null,
      "outputs": [
        {
          "output_type": "execute_result",
          "data": {
            "text/plain": [
              "0.1610870595108309"
            ]
          },
          "metadata": {
            "tags": []
          },
          "execution_count": 37
        }
      ]
    },
    {
      "cell_type": "code",
      "metadata": {
        "id": "-CfHgajHGkPS",
        "colab": {
          "base_uri": "https://localhost:8080/",
          "height": 34
        },
        "outputId": "15dac314-9e26-446f-fe28-0fe5ce937a16"
      },
      "source": [
        "z=stats.norm.ppf(0.99)-stats.norm.ppf(0.01)\n",
        "z"
      ],
      "execution_count": null,
      "outputs": [
        {
          "output_type": "execute_result",
          "data": {
            "text/plain": [
              "4.6526957480816815"
            ]
          },
          "metadata": {
            "tags": []
          },
          "execution_count": 38
        }
      ]
    },
    {
      "cell_type": "code",
      "metadata": {
        "id": "URLSfJ7pGnTz",
        "colab": {
          "base_uri": "https://localhost:8080/",
          "height": 34
        },
        "outputId": "9b7a020f-e75d-4c8e-bc74-fbe176b19946"
      },
      "source": [
        "z1=stats.norm.ppf(0.99)\n",
        "\n",
        "z1"
      ],
      "execution_count": null,
      "outputs": [
        {
          "output_type": "execute_result",
          "data": {
            "text/plain": [
              "2.3263478740408408"
            ]
          },
          "metadata": {
            "tags": []
          },
          "execution_count": 39
        }
      ]
    },
    {
      "cell_type": "code",
      "metadata": {
        "id": "yq3cC0t6Gqjy"
      },
      "source": [
        ""
      ],
      "execution_count": null,
      "outputs": []
    }
  ]
}