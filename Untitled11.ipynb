{
  "nbformat": 4,
  "nbformat_minor": 0,
  "metadata": {
    "colab": {
      "name": "Untitled11.ipynb",
      "provenance": []
    },
    "kernelspec": {
      "name": "python3",
      "display_name": "Python 3"
    }
  },
  "cells": [
    {
      "cell_type": "code",
      "metadata": {
        "id": "qyqhCIBkHDB7",
        "colab": {
          "base_uri": "https://localhost:8080/",
          "height": 71
        },
        "outputId": "d0a05fef-360f-4512-848b-da37dd54e88c"
      },
      "source": [
        "import pandas as pd\n",
        "import numpy as np\n",
        "import seaborn as sns\n",
        "import os\n",
        "import math\n",
        "import statistics\n",
        "import matplotlib.pyplot as plt\n",
        "%matplotlib inline\n",
        "import scipy.stats\n",
        "from scipy import stats\n",
        "from scipy.stats import zscore\n",
        "from scipy.stats import norm\n",
        "from scipy.special import ndtr as ndtr\n",
        "from scipy.stats import f\n",
        "import statsmodels.api as sm"
      ],
      "execution_count": null,
      "outputs": [
        {
          "output_type": "stream",
          "text": [
            "/usr/local/lib/python3.6/dist-packages/statsmodels/tools/_testing.py:19: FutureWarning: pandas.util.testing is deprecated. Use the functions in the public API at pandas.testing instead.\n",
            "  import pandas.util.testing as tm\n"
          ],
          "name": "stderr"
        }
      ]
    },
    {
      "cell_type": "code",
      "metadata": {
        "id": "atcXOM3sHZ29",
        "colab": {
          "base_uri": "https://localhost:8080/",
          "height": 68
        },
        "outputId": "ff345576-7fbf-426f-f66c-302247c5d778"
      },
      "source": [
        "#problem_2\n",
        "mu=52\n",
        "sd=4.50\n",
        "n=100\n",
        "mu_s=52.80\n",
        "alpha=0.05\n",
        "std_error=sd/(n**0.5)\n",
        "z_test=(mu_s-mu)/std_error\n",
        "p1=stats.norm.cdf(z_test)\n",
        "z_critical=alpha\n",
        "p2=stats.norm.cdf(z_critical)\n",
        "print('obtained _value is : ',p1)\n",
        "print('critical _value is : ',p2)\n",
        "if p1<p2:\n",
        "    print(\"Retain H0,The average cost is higher claimed by the student.\")\n",
        "else:\n",
        "    print(\"Reject H0,The bookstore’s claim against their alternative is correct\")"
      ],
      "execution_count": null,
      "outputs": [
        {
          "output_type": "stream",
          "text": [
            "obtained _value is :  0.9622798201865993\n",
            "critical _value is :  0.5199388058383725\n",
            "Reject H0,The bookstore’s claim against their alternative is correct\n"
          ],
          "name": "stdout"
        }
      ]
    },
    {
      "cell_type": "code",
      "metadata": {
        "id": "6eCAA5WFH3Nq",
        "colab": {
          "base_uri": "https://localhost:8080/",
          "height": 68
        },
        "outputId": "a183f9af-f379-4f40-d9ec-8648d9c34d61"
      },
      "source": [
        "#problem_3\n",
        "mu=34\n",
        "sd=8\n",
        "n=50\n",
        "mu_s=32.50\n",
        "alpha=0.01\n",
        "std_error=sd/(n**0.5)\n",
        "z_test=(mu_s-mu)/std_error\n",
        "p1=1-stats.norm.cdf(z_test)\n",
        "z_critical=alpha\n",
        "p2=stats.norm.cdf(z_critical)\n",
        "print('obtained _value is : ',p1)\n",
        "print('critical _value is : ',p2)\n",
        "if p1<p2:\n",
        "    print(\"Reject H0,the claim made by the companies are wrong \")\n",
        "else:\n",
        "    print(\"Retain H0,the claim made by the companies are right \")"
      ],
      "execution_count": null,
      "outputs": [
        {
          "output_type": "stream",
          "text": [
            "obtained _value is :  0.9075512005172\n",
            "critical _value is :  0.5039893563146316\n",
            "Retain H0,the claim made by the companies are right \n"
          ],
          "name": "stdout"
        }
      ]
    },
    {
      "cell_type": "code",
      "metadata": {
        "id": "lDqnm8dvIXgE",
        "colab": {
          "base_uri": "https://localhost:8080/",
          "height": 51
        },
        "outputId": "10e7c065-a530-4ded-965b-6cf2bf4c1db4"
      },
      "source": [
        "#problem_4\n",
        "data=[1008, 812, 1117, 1323, 1308, 1415, 831, 1021, 1287, 851, 930, 730, 699,872, 913, 944, 954, 987, 1695, 995, 1003, 994]\n",
        "\n",
        "from scipy.stats import ttest_1samp\n",
        "ttest,p_value=ttest_1samp(data,1135)\n",
        "print(p_value)\n",
        "if p_value < 0.05:    \n",
        "    print(\" we are rejecting null hypothesis\")\n",
        "else:\n",
        "    print(\"we are accepting null hypothesis\")"
      ],
      "execution_count": null,
      "outputs": [
        {
          "output_type": "stream",
          "text": [
            "0.0559738319464585\n",
            "we are accepting null hypothesis\n"
          ],
          "name": "stdout"
        }
      ]
    },
    {
      "cell_type": "code",
      "metadata": {
        "id": "CUqBXdjZIfbH",
        "colab": {
          "base_uri": "https://localhost:8080/",
          "height": 68
        },
        "outputId": "e5ae16aa-afe7-442d-88aa-09bdc7d23144"
      },
      "source": [
        "#problem_5\n",
        "mu=48432\n",
        "sd=2000\n",
        "n=400\n",
        "mu_s=48574\n",
        "alpha=0.05\n",
        "std_error=sd/(n**0.5)\n",
        "z_test=(mu_s-mu)/std_error\n",
        "p1=stats.norm.cdf(z_test)\n",
        "z_critical=alpha\n",
        "p2=stats.norm.cdf(z_critical)\n",
        "print('obtained _value is : ',p1)\n",
        "print('critical _value is : ',p2)\n",
        "if p1<p2:\n",
        "    print(\"Reject H0,the report is invalid \")\n",
        "else:\n",
        "    print(\"Retain H0,the report is valid \")"
      ],
      "execution_count": null,
      "outputs": [
        {
          "output_type": "stream",
          "text": [
            "obtained _value is :  0.9221961594734536\n",
            "critical _value is :  0.5199388058383725\n",
            "Retain H0,the report is valid \n"
          ],
          "name": "stdout"
        }
      ]
    },
    {
      "cell_type": "code",
      "metadata": {
        "id": "BRWhdxgPIxMs",
        "colab": {
          "base_uri": "https://localhost:8080/",
          "height": 51
        },
        "outputId": "9b1f1393-c7d2-4064-ab5c-2cda44502256"
      },
      "source": [
        "#problem_6\n",
        "rvs = stats.norm.rvs(loc = 31.67,scale = 1.29 ,size = 19)\n",
        "from scipy.stats import ttest_1samp\n",
        "ttest,p_value=ttest_1samp(rvs,32.28)\n",
        "print(p_value)\n",
        "if p_value < 0.05:    \n",
        "    print(\" we are rejecting null hypothesis \")\n",
        "else:\n",
        "    print(\"we are accepting null hypothesis : A national real estate investor determines that figure has changed now.\")"
      ],
      "execution_count": null,
      "outputs": [
        {
          "output_type": "stream",
          "text": [
            "0.0023006973415513362\n",
            " we are rejecting null hypothesis \n"
          ],
          "name": "stdout"
        }
      ]
    },
    {
      "cell_type": "code",
      "metadata": {
        "id": "sD-5AA1aI5e8",
        "colab": {
          "base_uri": "https://localhost:8080/",
          "height": 51
        },
        "outputId": "0e1b891f-f0a1-4b8f-f479-ab0cea9aa040"
      },
      "source": [
        "#problem_8\n",
        "rvs = stats.norm.rvs(loc = 12,scale = 1.5 ,size = 16)\n",
        "from scipy.stats import ttest_1samp\n",
        "ttest,p_value=ttest_1samp(rvs,10)\n",
        "print(p_value)\n",
        "if p_value < 0.05:    \n",
        "    print(\" we are rejecting null hypothesis \")\n",
        "else:\n",
        "    print(\"we are accepting null hypothesis\")\n"
      ],
      "execution_count": null,
      "outputs": [
        {
          "output_type": "stream",
          "text": [
            "7.670150806695878e-06\n",
            " we are rejecting null hypothesis \n"
          ],
          "name": "stdout"
        }
      ]
    },
    {
      "cell_type": "code",
      "metadata": {
        "id": "7wqqT3ohJDCZ",
        "colab": {
          "base_uri": "https://localhost:8080/",
          "height": 51
        },
        "outputId": "b875e6db-3101-427d-c869-39c28d390ccf"
      },
      "source": [
        "#problem_9\n",
        "rvs = stats.norm.rvs(loc = 0.01,scale = 1 ,size = 16)\n",
        "from scipy.stats import ttest_1samp\n",
        "ttest,p_value=ttest_1samp(rvs,0.16)\n",
        "print(p_value)\n",
        "if p_value < 0.05:    \n",
        "    print(\" we are rejecting null hypothesis \")\n",
        "else:\n",
        "    print(\"we are accepting null hypothesis\")"
      ],
      "execution_count": null,
      "outputs": [
        {
          "output_type": "stream",
          "text": [
            "0.20727860950930205\n",
            "we are accepting null hypothesis\n"
          ],
          "name": "stdout"
        }
      ]
    },
    {
      "cell_type": "code",
      "metadata": {
        "id": "zQNvFqxeJQBZ",
        "colab": {
          "base_uri": "https://localhost:8080/",
          "height": 51
        },
        "outputId": "692448d1-1a13-44ac-ad2f-e840ce2da8f3"
      },
      "source": [
        "#problem_10\n",
        "rvs = stats.norm.rvs(loc = 60,scale = 4 ,size = 25)\n",
        "from scipy.stats import ttest_1samp\n",
        "ttest,p_value=ttest_1samp(rvs,300)\n",
        "print(p_value)\n",
        "if p_value < 0.05:    \n",
        "    print(\" we are rejecting null hypothesis \")\n",
        "else:\n",
        "    print(\"we are accepting null hypothesis\")"
      ],
      "execution_count": null,
      "outputs": [
        {
          "output_type": "stream",
          "text": [
            "1.740040203247496e-45\n",
            " we are rejecting null hypothesis \n"
          ],
          "name": "stdout"
        }
      ]
    },
    {
      "cell_type": "code",
      "metadata": {
        "id": "gk01oONzJVRG",
        "colab": {
          "base_uri": "https://localhost:8080/",
          "height": 34
        },
        "outputId": "faaab376-4c67-4084-9773-a1d285e7286f"
      },
      "source": [
        "#problem_11\n",
        "from scipy.stats import ttest_ind_from_stats\n",
        "ttest_ind_from_stats(mean1=452, std1=212, nobs1=1200,\n",
        "                     mean2=523, std2=185, nobs2=800)"
      ],
      "execution_count": null,
      "outputs": [
        {
          "output_type": "execute_result",
          "data": {
            "text/plain": [
              "Ttest_indResult(statistic=-7.714517639722637, pvalue=1.9029244720009106e-14)"
            ]
          },
          "metadata": {
            "tags": []
          },
          "execution_count": 13
        }
      ]
    },
    {
      "cell_type": "code",
      "metadata": {
        "id": "Nt2Pwm0oJbWL",
        "colab": {
          "base_uri": "https://localhost:8080/",
          "height": 34
        },
        "outputId": "27ced6cc-1fb7-4878-a417-fc8ded72328d"
      },
      "source": [
        "#problem_12\n",
        "from scipy.stats import ttest_ind_from_stats\n",
        "ttest_ind_from_stats(mean1=308, std1=84, nobs1=100,\n",
        "                     mean2=254, std2=67, nobs2=100)\n"
      ],
      "execution_count": null,
      "outputs": [
        {
          "output_type": "execute_result",
          "data": {
            "text/plain": [
              "Ttest_indResult(statistic=5.025702668336442, pvalue=1.1185647741148368e-06)"
            ]
          },
          "metadata": {
            "tags": []
          },
          "execution_count": 14
        }
      ]
    },
    {
      "cell_type": "code",
      "metadata": {
        "id": "vl5QtBIiJv8c",
        "colab": {
          "base_uri": "https://localhost:8080/",
          "height": 34
        },
        "outputId": "3d571ffb-20bc-435f-a45b-d8da6828dc8f"
      },
      "source": [
        "#problem_13\n",
        "from scipy.stats import ttest_ind_from_stats\n",
        "ttest_ind_from_stats(mean1=27.50*0.317, std1=27.5*0.12, nobs1=14,\n",
        "                     mean2=20*0.21, std2=20*0.11, nobs2=9)"
      ],
      "execution_count": null,
      "outputs": [
        {
          "output_type": "execute_result",
          "data": {
            "text/plain": [
              "Ttest_indResult(statistic=3.6086382137896145, pvalue=0.0016494680699567412)"
            ]
          },
          "metadata": {
            "tags": []
          },
          "execution_count": 15
        }
      ]
    },
    {
      "cell_type": "code",
      "metadata": {
        "id": "R_6jt264J2Fy",
        "colab": {
          "base_uri": "https://localhost:8080/",
          "height": 34
        },
        "outputId": "b447be33-9cb0-4076-abff-5a5006905fa2"
      },
      "source": [
        "#problem_14\n",
        "from scipy.stats import ttest_ind_from_stats\n",
        "ttest_ind_from_stats(mean1=6598, std1=844, nobs1=15,\n",
        "                     mean2=6870, std2=669, nobs2=12)"
      ],
      "execution_count": null,
      "outputs": [
        {
          "output_type": "execute_result",
          "data": {
            "text/plain": [
              "Ttest_indResult(statistic=-0.9098300343990461, pvalue=0.3716010051185177)"
            ]
          },
          "metadata": {
            "tags": []
          },
          "execution_count": 16
        }
      ]
    },
    {
      "cell_type": "code",
      "metadata": {
        "id": "iti4286CJ54-",
        "colab": {
          "base_uri": "https://localhost:8080/",
          "height": 34
        },
        "outputId": "e225e2ba-b33d-47ca-8ef4-6ce424ce8b5c"
      },
      "source": [
        "#problem_15\n",
        "x1=53\n",
        "p1=0.53\n",
        "p2=0.53\n",
        "n1=1000\n",
        "x2=43\n",
        "n2=100\n",
        "alpha=0.05\n",
        "population1 = np.random.binomial(1, p1, n1)\n",
        "population2 = np.random.binomial(1, p2, n2)\n",
        "pval =sm.stats.ttest_ind(population1, population2)\n",
        "print(pval)\n"
      ],
      "execution_count": null,
      "outputs": [
        {
          "output_type": "stream",
          "text": [
            "(-0.41925938978646393, 0.675108580857029, 1098.0)\n"
          ],
          "name": "stdout"
        }
      ]
    },
    {
      "cell_type": "code",
      "metadata": {
        "id": "XHeajXZHKA-Y",
        "colab": {
          "base_uri": "https://localhost:8080/",
          "height": 34
        },
        "outputId": "c9d46f90-4177-4a1b-85ec-904764b79bd4"
      },
      "source": [
        "#problem_16\n",
        "x1=120\n",
        "p1=0.40\n",
        "p2=0.20\n",
        "n1=300\n",
        "x2=140\n",
        "n2=700\n",
        "population1 = np.random.binomial(1, p1, n1)\n",
        "population2 = np.random.binomial(1, p2, n2)\n",
        "pval = sm.stats.ttest_ind(population1, population2)\n",
        "print(pval)"
      ],
      "execution_count": null,
      "outputs": [
        {
          "output_type": "stream",
          "text": [
            "(7.025023759246781, 3.9573196851654824e-12, 998.0)\n"
          ],
          "name": "stdout"
        }
      ]
    },
    {
      "cell_type": "code",
      "metadata": {
        "id": "s2BMrCG0LWyx",
        "colab": {
          "base_uri": "https://localhost:8080/",
          "height": 51
        },
        "outputId": "6a5e6fd9-b2c7-44a1-9300-343897d99e97"
      },
      "source": [
        "#problem_17\n",
        "from scipy.stats import chisquare\n",
        "from scipy.stats import chi2\n",
        "chi_square=chisquare([16, 20, 25, 14, 29, 28])\n",
        "ddof=1\n",
        "alpha=0.05\n",
        "p_value=1-chi2.cdf(x=chi_square,df=ddof)\n",
        "print('p-value:',p_value)\n",
        "if p_value.all()<alpha:\n",
        "    print(\"Reject H0\")\n",
        "else:\n",
        "    print(\"Retain H0\")"
      ],
      "execution_count": null,
      "outputs": [
        {
          "output_type": "stream",
          "text": [
            "p-value: [0.0026998 0.7412121]\n",
            "Retain H0\n"
          ],
          "name": "stdout"
        }
      ]
    },
    {
      "cell_type": "code",
      "metadata": {
        "id": "8ksHVoFfLfr1",
        "colab": {
          "base_uri": "https://localhost:8080/",
          "height": 68
        },
        "outputId": "34114454-bc3e-42ef-c1a6-8740023c587f"
      },
      "source": [
        "#problem_18\n",
        "df = pd.DataFrame({'men':[2792,1486],'women':[3591,2131]})\n",
        "df.index=['voted','not_voted']\n",
        "print(df)"
      ],
      "execution_count": null,
      "outputs": [
        {
          "output_type": "stream",
          "text": [
            "            men  women\n",
            "voted      2792   3591\n",
            "not_voted  1486   2131\n"
          ],
          "name": "stdout"
        }
      ]
    },
    {
      "cell_type": "code",
      "metadata": {
        "id": "skCd2ezlMIDN",
        "colab": {
          "base_uri": "https://localhost:8080/",
          "height": 68
        },
        "outputId": "a7db4277-0ad0-4479-d3cc-9e4164a59c1b"
      },
      "source": [
        "Observed_Values = df.values \n",
        "print(\"Observed Values :-\\n\",Observed_Values)"
      ],
      "execution_count": null,
      "outputs": [
        {
          "output_type": "stream",
          "text": [
            "Observed Values :-\n",
            " [[2792 3591]\n",
            " [1486 2131]]\n"
          ],
          "name": "stdout"
        }
      ]
    },
    {
      "cell_type": "code",
      "metadata": {
        "id": "oX9M_2NKMK6W",
        "colab": {
          "base_uri": "https://localhost:8080/",
          "height": 85
        },
        "outputId": "49dca2d5-d582-4c70-dc02-0658b7fdd05e"
      },
      "source": [
        "val=stats.chi2_contingency(df)\n",
        "print(val)\n",
        "Expected_Values=val[3]\n",
        "print(Expected_Values)"
      ],
      "execution_count": null,
      "outputs": [
        {
          "output_type": "stream",
          "text": [
            "(6.552337973968181, 0.01047464310091866, 1, array([[2730.6474, 3652.3526],\n",
            "       [1547.3526, 2069.6474]]))\n",
            "[[2730.6474 3652.3526]\n",
            " [1547.3526 2069.6474]]\n"
          ],
          "name": "stdout"
        }
      ]
    },
    {
      "cell_type": "code",
      "metadata": {
        "id": "gX2IKU2vMNSR",
        "colab": {
          "base_uri": "https://localhost:8080/",
          "height": 34
        },
        "outputId": "5e654c1d-bc35-4cfe-c475-53e005d928a3"
      },
      "source": [
        "no_of_rows=len(df.iloc[0:2,0])\n",
        "no_of_columns=len(df.iloc[0,0:2])\n",
        "ddof=(no_of_rows-1)*(no_of_columns-1)\n",
        "print(\"Degree of Freedom:-\",ddof)\n",
        "alpha = 0.05"
      ],
      "execution_count": null,
      "outputs": [
        {
          "output_type": "stream",
          "text": [
            "Degree of Freedom:- 1\n"
          ],
          "name": "stdout"
        }
      ]
    },
    {
      "cell_type": "code",
      "metadata": {
        "id": "TYG_knXvMQav",
        "colab": {
          "base_uri": "https://localhost:8080/",
          "height": 34
        },
        "outputId": "77227d0e-4eab-47a2-f66e-939ab6883c55"
      },
      "source": [
        "from scipy.stats import chi2\n",
        "chi_square=sum([(o-e)**2./e for o,e in zip(Observed_Values,Expected_Values)])\n",
        "chi_square_statistic=chi_square[0]+chi_square[1]\n",
        "print(\"chi-square statistic:-\",chi_square_statistic)"
      ],
      "execution_count": null,
      "outputs": [
        {
          "output_type": "stream",
          "text": [
            "chi-square statistic:- 6.660455899328067\n"
          ],
          "name": "stdout"
        }
      ]
    },
    {
      "cell_type": "code",
      "metadata": {
        "id": "CEM71BPSMTRQ",
        "colab": {
          "base_uri": "https://localhost:8080/",
          "height": 34
        },
        "outputId": "2e633ed3-c91b-4562-a4ac-2f6681eeacd9"
      },
      "source": [
        "critical_value=chi2.ppf(q=1-alpha,df=ddof)\n",
        "print('critical_value:',critical_value)"
      ],
      "execution_count": null,
      "outputs": [
        {
          "output_type": "stream",
          "text": [
            "critical_value: 3.841458820694124\n"
          ],
          "name": "stdout"
        }
      ]
    },
    {
      "cell_type": "code",
      "metadata": {
        "id": "A-vWyOSwMV6M",
        "colab": {
          "base_uri": "https://localhost:8080/",
          "height": 34
        },
        "outputId": "d10e4ac5-500e-4ca6-9801-015c9500ee10"
      },
      "source": [
        "if chi_square_statistic>=critical_value:\n",
        "    print(\"Reject H0,There is a relationship between 2 categorical variables\")\n",
        "else:\n",
        "    print(\"Retain H0,There is no relationship between 2 categorical variables\")"
      ],
      "execution_count": null,
      "outputs": [
        {
          "output_type": "stream",
          "text": [
            "Reject H0,There is a relationship between 2 categorical variables\n"
          ],
          "name": "stdout"
        }
      ]
    },
    {
      "cell_type": "code",
      "metadata": {
        "id": "kdu6ywKGMYmh",
        "colab": {
          "base_uri": "https://localhost:8080/",
          "height": 51
        },
        "outputId": "9b845698-6415-4cb9-dbe5-1f6748e726d0"
      },
      "source": [
        "#problem_19\n",
        "from scipy.stats import chi2\n",
        "Chi_Square = 14.96\n",
        "ddof=3\n",
        "alpha=0.05\n",
        "p_value=1-chi2.cdf(x=Chi_Square,df=ddof)\n",
        "print('p-value:',p_value)\n",
        "if p_value<alpha:\n",
        "    print(\"Reject H0,the data suggest that all candidates are equally popular\")\n",
        "else:\n",
        "    print(\"Retain H0,the data suggest that all candidates are not equally popular\")"
      ],
      "execution_count": null,
      "outputs": [
        {
          "output_type": "stream",
          "text": [
            "p-value: 0.001851152735284245\n",
            "Reject H0,the data suggest that all candidates are equally popular\n"
          ],
          "name": "stdout"
        }
      ]
    },
    {
      "cell_type": "code",
      "metadata": {
        "id": "SsaeRax-MhAW",
        "colab": {
          "base_uri": "https://localhost:8080/",
          "height": 51
        },
        "outputId": "3ea94247-a88c-4219-85f0-602eb5a5ab1b"
      },
      "source": [
        "#problem_20\n",
        "from scipy.stats import chi2\n",
        "Chi_Square = 29.6\n",
        "ddof=4\n",
        "alpha=0.05\n",
        "p_value=1-chi2.cdf(x=Chi_Square,df=ddof)\n",
        "print('p-value:',p_value)\n",
        "if p_value<alpha:\n",
        "    print(\"Reject H0,the data suggest that there is a significant relationship between age and photograph preference\")\n",
        "else:\n",
        "    print(\"Retain H0,the data suggest that there is no significant relationship between age and photograph preference\")"
      ],
      "execution_count": null,
      "outputs": [
        {
          "output_type": "stream",
          "text": [
            "p-value: 5.9033530201979545e-06\n",
            "Reject H0,the data suggest that there is a significant relationship between age and photograph preference\n"
          ],
          "name": "stdout"
        }
      ]
    },
    {
      "cell_type": "code",
      "metadata": {
        "id": "fAty0_YVMmp0",
        "colab": {
          "base_uri": "https://localhost:8080/",
          "height": 68
        },
        "outputId": "2213f5d6-15eb-4de1-8720-2a64cf0c19d1"
      },
      "source": [
        "#problem_21\n",
        "ddof=1\n",
        "alpha=0.05\n",
        "from scipy.stats import chi2\n",
        "chi_square=19.87\n",
        "print(\"chi-square value :\",chi_square)\n",
        "critical_value=chi2.ppf(q=1-alpha,df=ddof)\n",
        "print('critical_value:',critical_value)\n",
        "if chi_square>=critical_value:\n",
        "    print(\"Reject H0,there is a significant difference between the 'support'and 'n support'conditions in the frequency with which individuals are likely to conform\")\n",
        "else:\n",
        "    print(\"Retain H0,There is no significant difference between the 'upport'and 'nosupport'conditions in the frequency with which individuals are likely to conform?\")"
      ],
      "execution_count": null,
      "outputs": [
        {
          "output_type": "stream",
          "text": [
            "chi-square value : 19.87\n",
            "critical_value: 3.841458820694124\n",
            "Reject H0,there is a significant difference between the 'support'and 'n support'conditions in the frequency with which individuals are likely to conform\n"
          ],
          "name": "stdout"
        }
      ]
    },
    {
      "cell_type": "code",
      "metadata": {
        "id": "wLPdNSzZM7Mx",
        "colab": {
          "base_uri": "https://localhost:8080/",
          "height": 51
        },
        "outputId": "211d421c-9bc3-4051-f6e7-1a0ec4ded132"
      },
      "source": [
        "#problem_22\n",
        "from scipy.stats import chi2\n",
        "Chi_Square = 10.71\n",
        "ddof=2\n",
        "alpha=0.01\n",
        "p_value=1-chi2.cdf(x=Chi_Square,df=ddof)\n",
        "print('p-value:',p_value)\n",
        "if p_value<alpha:\n",
        "    print(\"Reject H0,there is a relationship between height and leadership qualities?\")\n",
        "else:\n",
        "    print(\"Retain H0,there is no relationship between height and leadership qualities?\")"
      ],
      "execution_count": null,
      "outputs": [
        {
          "output_type": "stream",
          "text": [
            "p-value: 0.004724469497505601\n",
            "Reject H0,there is a relationship between height and leadership qualities?\n"
          ],
          "name": "stdout"
        }
      ]
    },
    {
      "cell_type": "code",
      "metadata": {
        "id": "Cv6Fbf8INFER",
        "colab": {
          "base_uri": "https://localhost:8080/",
          "height": 85
        },
        "outputId": "375e2876-846b-4ae8-cf6e-9579d6e3284c"
      },
      "source": [
        "#problem_23\n",
        "df = pd.DataFrame({'married':[679,63,42],'widowed':[103,10,18],'not_married':[114,20,25]})\n",
        "df.index=['Employed', 'not_employed', 'not_in_labour_post']\n",
        "print(df)"
      ],
      "execution_count": null,
      "outputs": [
        {
          "output_type": "stream",
          "text": [
            "                    married  widowed  not_married\n",
            "Employed                679      103          114\n",
            "not_employed             63       10           20\n",
            "not_in_labour_post       42       18           25\n"
          ],
          "name": "stdout"
        }
      ]
    },
    {
      "cell_type": "code",
      "metadata": {
        "id": "zdstSTdBNLfS",
        "colab": {
          "base_uri": "https://localhost:8080/",
          "height": 85
        },
        "outputId": "2193aa85-90bf-446b-bb5f-a103b8f5fa2c"
      },
      "source": [
        "Observed_Values = df.values \n",
        "print(\"Observed Values :-\\n\",Observed_Values)"
      ],
      "execution_count": null,
      "outputs": [
        {
          "output_type": "stream",
          "text": [
            "Observed Values :-\n",
            " [[679 103 114]\n",
            " [ 63  10  20]\n",
            " [ 42  18  25]]\n"
          ],
          "name": "stdout"
        }
      ]
    },
    {
      "cell_type": "code",
      "metadata": {
        "id": "MjGgOKfmNQmA",
        "colab": {
          "base_uri": "https://localhost:8080/",
          "height": 68
        },
        "outputId": "7add80fd-ecfe-457b-cdd1-0b9455e6c959"
      },
      "source": [
        "val=stats.chi2_contingency(df)\n",
        "\n",
        "Expected_Values=val[3]\n",
        "print(Expected_Values)"
      ],
      "execution_count": null,
      "outputs": [
        {
          "output_type": "stream",
          "text": [
            "[[654.06331471 109.2886406  132.64804469]\n",
            " [ 67.88826816  11.34357542  13.76815642]\n",
            " [ 62.04841713  10.36778399  12.58379888]]\n"
          ],
          "name": "stdout"
        }
      ]
    },
    {
      "cell_type": "code",
      "metadata": {
        "id": "Kb3vGhMaNUt-",
        "colab": {
          "base_uri": "https://localhost:8080/",
          "height": 34
        },
        "outputId": "b4b5c37d-d47e-4449-d25b-8cc4d79ab7c3"
      },
      "source": [
        "no_of_rows=len(df.iloc[0:3,0])\n",
        "no_of_columns=len(df.iloc[0,0:3])\n",
        "ddof=(no_of_rows-1)*(no_of_columns-1)\n",
        "print(\"Degree of Freedom:-\",ddof)\n",
        "alpha = 0.05"
      ],
      "execution_count": null,
      "outputs": [
        {
          "output_type": "stream",
          "text": [
            "Degree of Freedom:- 4\n"
          ],
          "name": "stdout"
        }
      ]
    },
    {
      "cell_type": "code",
      "metadata": {
        "id": "RQEPOEw-NYwt",
        "colab": {
          "base_uri": "https://localhost:8080/",
          "height": 34
        },
        "outputId": "629215d7-1e82-41b3-ff0b-3bd2a8dd9f98"
      },
      "source": [
        "from scipy.stats import chi2\n",
        "chi_square=sum([(o-e)**2./e for o,e in zip(Observed_Values,Expected_Values)])\n",
        "chi_square_statistic=chi_square[0]+chi_square[1]+chi_square[2]\n",
        "print(\"chi-square statistic:-\",chi_square_statistic)"
      ],
      "execution_count": null,
      "outputs": [
        {
          "output_type": "stream",
          "text": [
            "chi-square statistic:- 31.613103194077983\n"
          ],
          "name": "stdout"
        }
      ]
    },
    {
      "cell_type": "code",
      "metadata": {
        "id": "Jwf_0w94NbJo",
        "colab": {
          "base_uri": "https://localhost:8080/",
          "height": 34
        },
        "outputId": "d4481c8d-9bd6-4164-ab5e-01c93bd0a50f"
      },
      "source": [
        "critical_value=chi2.ppf(q=1-alpha,df=ddof)\n",
        "print('critical_value:',critical_value)"
      ],
      "execution_count": null,
      "outputs": [
        {
          "output_type": "stream",
          "text": [
            "critical_value: 9.487729036781154\n"
          ],
          "name": "stdout"
        }
      ]
    },
    {
      "cell_type": "code",
      "metadata": {
        "id": "XDIkO6uZNdsM",
        "colab": {
          "base_uri": "https://localhost:8080/",
          "height": 34
        },
        "outputId": "2f496de6-1f73-4220-f7c7-2ffec6383ed1"
      },
      "source": [
        "if chi_square_statistic>=critical_value:\n",
        "    print(\"Reject H0,There is a relationship between 2 categorical variables\")\n",
        "else:\n",
        "    print(\"Retain H0,There is no relationship between 2 categorical variables\")"
      ],
      "execution_count": null,
      "outputs": [
        {
          "output_type": "stream",
          "text": [
            "Reject H0,There is a relationship between 2 categorical variables\n"
          ],
          "name": "stdout"
        }
      ]
    },
    {
      "cell_type": "code",
      "metadata": {
        "id": "3DMItSAUNgK-"
      },
      "source": [
        ""
      ],
      "execution_count": null,
      "outputs": []
    }
  ]
}