{
  "nbformat": 4,
  "nbformat_minor": 0,
  "metadata": {
    "colab": {
      "name": "Untitled9.ipynb",
      "provenance": []
    },
    "kernelspec": {
      "name": "python3",
      "display_name": "Python 3"
    }
  },
  "cells": [
    {
      "cell_type": "code",
      "metadata": {
        "id": "x9PMoJ49v63n",
        "colab": {
          "base_uri": "https://localhost:8080/",
          "height": 71
        },
        "outputId": "e1aab82c-1e11-4b24-a3af-7afc3a31a962"
      },
      "source": [
        "import pandas as pd\n",
        "import numpy as np\n",
        "import os\n",
        "import math\n",
        "import statistics\n",
        "import scipy.stats\n",
        "from scipy import stats\n",
        "from scipy.stats import zscore\n",
        "from scipy.stats import norm\n",
        "from scipy.stats import f\n",
        "import statsmodels.api as sm\n"
      ],
      "execution_count": null,
      "outputs": [
        {
          "output_type": "stream",
          "text": [
            "/usr/local/lib/python3.6/dist-packages/statsmodels/tools/_testing.py:19: FutureWarning: pandas.util.testing is deprecated. Use the functions in the public API at pandas.testing instead.\n",
            "  import pandas.util.testing as tm\n"
          ],
          "name": "stderr"
        }
      ]
    },
    {
      "cell_type": "code",
      "metadata": {
        "id": "VeNPBafF8ZbM",
        "colab": {
          "base_uri": "https://localhost:8080/",
          "height": 68
        },
        "outputId": "acfa496f-d18e-437f-a3a4-4e964bc34bf1"
      },
      "source": [
        "mu=100\n",
        "sd=15\n",
        "n=36\n",
        "mu_s=108\n",
        "alpha=0.05\n",
        "std_error=sd/(n**0.5)\n",
        "z_test=(mu_s-mu)/std_error\n",
        "p1=1-stats.norm.cdf(z_test)\n",
        "z_critical=alpha\n",
        "p2=stats.norm.cdf(z_critical)\n",
        "print('obtained _value is : ',p1)\n",
        "print('critical _value is : ',p2)\n",
        "if p1<p2:\n",
        "    print(\"Reject H0 \")\n",
        "else:\n",
        "    print(\"Retain H0 \")"
      ],
      "execution_count": null,
      "outputs": [
        {
          "output_type": "stream",
          "text": [
            "obtained _value is :  0.0006871379379158604\n",
            "critical _value is :  0.5199388058383725\n",
            "Reject H0 \n"
          ],
          "name": "stdout"
        }
      ]
    },
    {
      "cell_type": "code",
      "metadata": {
        "id": "-JGJaYhZ8sCG",
        "colab": {
          "base_uri": "https://localhost:8080/",
          "height": 34
        },
        "outputId": "900747a2-64ef-4fbe-a1bc-eae5fc64998f"
      },
      "source": [
        "voters_in_state1=100\n",
        "voters_in_state2=100\n",
        "p1=0.52\n",
        "q1=1-p1\n",
        "p2=0.47\n",
        "q2=1-p2\n",
        "pop_mean=p1-p2\n",
        "std=math.sqrt(((p1 * q1 ) / voters_in_state1) + ((p2 * q2) /voters_in_state2))\n",
        "# Finding probability of p1 - p2 < 0\n",
        "X = 0\n",
        "Z_score = (X - pop_mean)/std\n",
        "print('my population mean is {:.2f}, standard_deviation is {:.2f} and Z_score is {:.2f}'.format(pop_mean,std,Z_score))\n"
      ],
      "execution_count": null,
      "outputs": [
        {
          "output_type": "stream",
          "text": [
            "my population mean is 0.05, standard_deviation is 0.07 and Z_score is -0.71\n"
          ],
          "name": "stdout"
        }
      ]
    },
    {
      "cell_type": "code",
      "metadata": {
        "id": "dMFmeXPo880s",
        "colab": {
          "base_uri": "https://localhost:8080/",
          "height": 34
        },
        "outputId": "6043fb8a-0689-4dea-d94e-239ac2d17916"
      },
      "source": [
        "mean=1026\n",
        "sd=209\n",
        "score=1100\n",
        "alpha=0.05\n",
        "z_score=(score-mean)/sd\n",
        "\n",
        "print(\"My Score is in the range {} - {}  with a  zscore {:.2f}\".format(mean - sd,mean + sd,z_score))"
      ],
      "execution_count": null,
      "outputs": [
        {
          "output_type": "stream",
          "text": [
            "My Score is in the range 817 - 1235  with a  zscore 0.35\n"
          ],
          "name": "stdout"
        }
      ]
    },
    {
      "cell_type": "code",
      "metadata": {
        "id": "Dp_4_wjv9D6H"
      },
      "source": [
        ""
      ],
      "execution_count": null,
      "outputs": []
    }
  ]
}